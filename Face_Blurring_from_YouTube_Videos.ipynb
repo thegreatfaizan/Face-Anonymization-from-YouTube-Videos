{
  "nbformat": 4,
  "nbformat_minor": 0,
  "metadata": {
    "colab": {
      "provenance": [],
      "include_colab_link": true
    },
    "kernelspec": {
      "name": "python3",
      "display_name": "Python 3"
    },
    "language_info": {
      "name": "python"
    },
    "accelerator": "GPU",
    "gpuClass": "standard"
  },
  "cells": [
    {
      "cell_type": "markdown",
      "metadata": {
        "id": "view-in-github",
        "colab_type": "text"
      },
      "source": [
        "<a href=\"https://colab.research.google.com/github/thegreatfaizan/Face-Anonymization-from-YouTube-Videos/blob/main/Face_Blurring_from_YouTube_Videos.ipynb\" target=\"_parent\"><img src=\"https://colab.research.google.com/assets/colab-badge.svg\" alt=\"Open In Colab\"/></a>"
      ]
    },
    {
      "cell_type": "code",
      "execution_count": null,
      "metadata": {
        "colab": {
          "base_uri": "https://localhost:8080/"
        },
        "id": "MdlVPmYTNSZm",
        "outputId": "67c38dac-2652-40fc-8785-0eba48b45b04"
      },
      "outputs": [
        {
          "output_type": "stream",
          "name": "stdout",
          "text": [
            "Looking in indexes: https://pypi.org/simple, https://us-python.pkg.dev/colab-wheels/public/simple/\n",
            "Collecting face_recognition\n",
            "  Downloading face_recognition-1.3.0-py2.py3-none-any.whl (15 kB)\n",
            "Requirement already satisfied: dlib>=19.7 in /usr/local/lib/python3.8/dist-packages (from face_recognition) (19.24.0)\n",
            "Requirement already satisfied: Pillow in /usr/local/lib/python3.8/dist-packages (from face_recognition) (7.1.2)\n",
            "Requirement already satisfied: Click>=6.0 in /usr/local/lib/python3.8/dist-packages (from face_recognition) (7.1.2)\n",
            "Collecting face-recognition-models>=0.3.0\n",
            "  Downloading face_recognition_models-0.3.0.tar.gz (100.1 MB)\n",
            "\u001b[2K     \u001b[90m━━━━━━━━━━━━━━━━━━━━━━━━━━━━━━━━━━━━━━━\u001b[0m \u001b[32m100.1/100.1 MB\u001b[0m \u001b[31m9.1 MB/s\u001b[0m eta \u001b[36m0:00:00\u001b[0m\n",
            "\u001b[?25h  Preparing metadata (setup.py) ... \u001b[?25l\u001b[?25hdone\n",
            "Requirement already satisfied: numpy in /usr/local/lib/python3.8/dist-packages (from face_recognition) (1.21.6)\n",
            "Building wheels for collected packages: face-recognition-models\n",
            "  Building wheel for face-recognition-models (setup.py) ... \u001b[?25l\u001b[?25hdone\n",
            "  Created wheel for face-recognition-models: filename=face_recognition_models-0.3.0-py2.py3-none-any.whl size=100566185 sha256=0ea1609e417b3030632f3475a56f4636c9b54bd4ecb8d26146cca993eeb9eb06\n",
            "  Stored in directory: /root/.cache/pip/wheels/b4/4b/8f/751e99d45f089bdf366a7d3e5066db3c2b84a62e4377f534d7\n",
            "Successfully built face-recognition-models\n",
            "Installing collected packages: face-recognition-models, face_recognition\n",
            "Successfully installed face-recognition-models-0.3.0 face_recognition-1.3.0\n"
          ]
        }
      ],
      "source": [
        "!pip install face_recognition"
      ]
    },
    {
      "cell_type": "code",
      "source": [
        "!pip install pafy"
      ],
      "metadata": {
        "colab": {
          "base_uri": "https://localhost:8080/"
        },
        "id": "630vnG1uNatT",
        "outputId": "1e931af2-a054-409b-c2a0-6af88747e0d2"
      },
      "execution_count": null,
      "outputs": [
        {
          "output_type": "stream",
          "name": "stdout",
          "text": [
            "Looking in indexes: https://pypi.org/simple, https://us-python.pkg.dev/colab-wheels/public/simple/\n",
            "Collecting pafy\n",
            "  Downloading pafy-0.5.5-py2.py3-none-any.whl (35 kB)\n",
            "Installing collected packages: pafy\n",
            "Successfully installed pafy-0.5.5\n"
          ]
        }
      ]
    },
    {
      "cell_type": "code",
      "source": [
        "!pip install youtube-dl==2020.12.2"
      ],
      "metadata": {
        "colab": {
          "base_uri": "https://localhost:8080/"
        },
        "id": "5nsGvGtGObVQ",
        "outputId": "076421b3-3fea-4a96-dfae-dffb9b430381"
      },
      "execution_count": null,
      "outputs": [
        {
          "output_type": "stream",
          "name": "stdout",
          "text": [
            "Looking in indexes: https://pypi.org/simple, https://us-python.pkg.dev/colab-wheels/public/simple/\n",
            "Collecting youtube-dl==2020.12.2\n",
            "  Downloading youtube_dl-2020.12.2-py2.py3-none-any.whl (1.8 MB)\n",
            "\u001b[K     |████████████████████████████████| 1.8 MB 33.2 MB/s \n",
            "\u001b[?25hInstalling collected packages: youtube-dl\n",
            "Successfully installed youtube-dl-2020.12.2\n"
          ]
        }
      ]
    },
    {
      "cell_type": "code",
      "source": [
        "!mkdir Imran-Khan\n",
        "!cd Imran-Khan"
      ],
      "metadata": {
        "id": "eHDzdPH-OrgR"
      },
      "execution_count": null,
      "outputs": []
    },
    {
      "cell_type": "code",
      "source": [
        "import requests\n",
        "file_url = 'https://images.news18.com/ibnlive/uploads/2021/09/pak-pm-imran-khan-16486488524x3.jpg'\n",
        "image_file = requests.get(file_url).content\n",
        "with open('/content/Imran-Khan/imran_khan.jpg','wb') as handler:\n",
        "  handler.write(image_file)"
      ],
      "metadata": {
        "id": "O7pUXVtxOxUJ"
      },
      "execution_count": null,
      "outputs": []
    },
    {
      "cell_type": "code",
      "source": [
        "import cv2\n",
        "import face_recognition\n",
        "import pafy\n",
        "from google.colab.patches import cv2_imshow"
      ],
      "metadata": {
        "id": "EalhzeMEOz8n"
      },
      "execution_count": null,
      "outputs": []
    },
    {
      "cell_type": "code",
      "source": [
        "url = 'https://www.youtube.com/watch?v=O-ffrWfrSRg'\n",
        "video = pafy.new(url)\n",
        "best = video.getbest(preftype=\"mp4\")\n",
        "best.download(filepath=\"/content/Imran-Khan/video.\" + best.extension)"
      ],
      "metadata": {
        "colab": {
          "base_uri": "https://localhost:8080/"
        },
        "id": "_UZ_rROOO7Zn",
        "outputId": "4911af7d-b41b-4a0e-ee1e-8c2286798470"
      },
      "execution_count": null,
      "outputs": [
        {
          "output_type": "stream",
          "name": "stdout",
          "text": [
            "\n"
          ]
        }
      ]
    },
    {
      "cell_type": "code",
      "source": [
        "capture = cv2.VideoCapture(\"/content/Imran-Khan/video.mp4\")\n",
        "frame_width = int(capture.get(3))\n",
        "frame_height = int(capture.get(4))\n",
        "size = (frame_width,frame_height)\n",
        "result = cv2.VideoWriter(\"output.mp4\",cv2.VideoWriter_fourcc(*'MP4V'),20,size)\n",
        "\n",
        "while capture.isOpened():\n",
        "   success, image = capture.read()\n",
        "   image_converted = cv2.cvtColor(image,cv2.COLOR_BGR2RGB)\n",
        "   image_ik = face_recognition.load_image_file('/content/Imran-Khan/imran_khan.jpg')\n",
        "   image_ik_converted = cv2.cvtColor(image_ik,cv2.COLOR_BGR2RGB)\n",
        "   try:\n",
        "    image_detected = face_recognition.face_encodings(image_converted)[0]\n",
        "    image_ik_detected = face_recognition.face_encodings(image_ik_converted)[0]\n",
        "   except IndexError:\n",
        "     pass\n",
        "   results = face_recognition.compare_faces([image_ik_detected], image_detected)\n",
        "   if results[0]:\n",
        "     location = face_recognition.face_locations(image)\n",
        "     try:\n",
        "      location = location[0]\n",
        "      face = image[location[0]:location[2],location[3]:location[1]]\n",
        "      face_blur = cv2.medianBlur(face,9)\n",
        "      cv2_imshow(face_blur)\n",
        "      image[location[0]:location[2],location[3]:location[1]] = face_blur\n",
        "     except IndexError:\n",
        "       pass\n",
        "     result.write(image)\n",
        "capture.release()\n",
        "result.release()\n",
        "print(\"Completed! Output video is at /content/output.mp4 \\nDouble Click to download the output video.\")"
      ],
      "metadata": {
        "id": "_mfaiKrjO97F"
      },
      "execution_count": null,
      "outputs": []
    }
  ]
}